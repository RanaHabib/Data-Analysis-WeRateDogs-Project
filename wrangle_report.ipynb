{
 "cells": [
  {
   "cell_type": "markdown",
   "metadata": {},
   "source": [
    "# <center>WeRateDogs Data Analysis Project Report</center>"
   ]
  },
  {
   "cell_type": "markdown",
   "metadata": {},
   "source": [
    "## Data Gathering"
   ]
  },
  {
   "cell_type": "markdown",
   "metadata": {},
   "source": [
    "This project contains three dataframes, **first** one is the `twitter-archive-enhanced.csv` file which was downloaded through the course resources.\n",
    "\n",
    "**The second** dataframe is the `extra_archive` which was obtained with the twitter API `tweepy` by obtaining the authentication with the api tokens, the extra_archive dataframe contained the retweeted counts and the favourite counts. To obtain this file I gatherd all the necessary information and wrote this info to a **txt** file that contained a string dictionary. To read this string dictionary I used the _pd.read_json_ function to read the json file inside the txt file and specified the _lines_ parameter to true to read each line as a separate JSON file.\n",
    "\n",
    "**The third** dataframe is the `image_predictions` dataframe which contained mainly top 3 predictions for the corresponding dog. This dataframe was obtained with the help of `request` library that requested to download the TSV of the URL that was specified in the function. To read the TSV we needed to specify the **sep** parameter to be _\\t_"
   ]
  },
  {
   "cell_type": "markdown",
   "metadata": {},
   "source": [
    "## Assessing"
   ]
  },
  {
   "cell_type": "markdown",
   "metadata": {},
   "source": [
    "First of all the `twitter_archive` table, the table was assessed by checking the following: \n",
    "- Datatypes with the **info()** found some columns with inaccurate datatypes like timestamp.\n",
    "- The duplicated rows with **duplicated()**, no duplicated values were found.\n",
    "- Whether the ids are unique or not with **nunique()**, no duplicated ids were found.\n",
    "- the NaN values of the in_reply_to_status_id column, i noticed that these rows are actually re-tweets.\n",
    "- rating_denominator and rating_numerator, which had inconsistent values.\n",
    "- name values, which had inaccurate values."
   ]
  },
  {
   "cell_type": "markdown",
   "metadata": {},
   "source": [
    "The `image_predictions` table, the table was assessed by checking the following:\n",
    "- the false predictions, some rows had other than dog animals.\n",
    "- Datatypes with the **info()**.\n",
    "- The duplicated rows with **duplicated()**.\n",
    "- the names of the breeds, which were inconsistent."
   ]
  },
  {
   "cell_type": "markdown",
   "metadata": {},
   "source": [
    "## Cleaning"
   ]
  },
  {
   "cell_type": "markdown",
   "metadata": {},
   "source": [
    "`twitter_archive` table.\n",
    "- the false names were mostly lowercase so names with lowercase were removed.\n",
    "- ratings contained decimal numbers, the correct numbers were extracted with Regex and were corrected.\n",
    "- rows with retweets were removed, which had a non-Nan value of retweeted_status_id.\n",
    "- rating nominator that exceeded 14 were approximated to 14 and the denominator is considered to be 14.\n",
    "- some columns had no use like  [in_reply_to_status_id, in_reply_to_user_id, retweeted_status_id, retweeted_status_user_id, retweeted_status_timestamp, source] which were dropped.\n",
    "- expanded_url column which had NaN value were dropped.\n",
    "- Timestamp datatype was converted to datetime.\n",
    "- type of dog was merged in one column instead of 4 different columns.\n",
    "\n",
    "\n",
    "`image_predictions` table.\n",
    "- rows which had all False prediction were droppped.\n",
    "- most accurately predicted dog column was extracted and created.\n",
    "- dog names were corrected by removing the underscore from the names.\n",
    "- column names need to be edited to indicated description."
   ]
  }
 ],
 "metadata": {
  "kernelspec": {
   "display_name": "Python 3",
   "language": "python",
   "name": "python3"
  },
  "language_info": {
   "codemirror_mode": {
    "name": "ipython",
    "version": 3
   },
   "file_extension": ".py",
   "mimetype": "text/x-python",
   "name": "python",
   "nbconvert_exporter": "python",
   "pygments_lexer": "ipython3",
   "version": "3.7.3"
  }
 },
 "nbformat": 4,
 "nbformat_minor": 4
}
